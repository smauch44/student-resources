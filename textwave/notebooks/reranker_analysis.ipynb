{
 "cells": [
  {
   "cell_type": "code",
   "execution_count": 1,
   "id": "a2ccdee9-f78b-4c89-a1eb-0f986174aa14",
   "metadata": {},
   "outputs": [
    {
     "name": "stderr",
     "output_type": "stream",
     "text": [
      "/opt/anaconda3/lib/python3.12/site-packages/tqdm/auto.py:21: TqdmWarning: IProgress not found. Please update jupyter and ipywidgets. See https://ipywidgets.readthedocs.io/en/stable/user_install.html\n",
      "  from .autonotebook import tqdm as notebook_tqdm\n"
     ]
    }
   ],
   "source": [
    "import matplotlib.pyplot as plt\n",
    "from sklearn.feature_extraction.text import CountVectorizer\n",
    "import seaborn as sns\n",
    "import numpy as np\n",
    "import pandas as pd\n",
    "import sys\n",
    "import os\n",
    "\n",
    "# Add project root to sys.path\n",
    "sys.path.append(\"..\")\n",
    "\n",
    "from modules.retrieval.reranker import Reranker"
   ]
  },
  {
   "cell_type": "code",
   "execution_count": 2,
   "id": "8b72f3f6-840c-4e81-81cc-afa5c2c41b51",
   "metadata": {},
   "outputs": [
    {
     "name": "stdout",
     "output_type": "stream",
     "text": [
      "Loaded 150 documents and 1051 questions.\n"
     ]
    },
    {
     "data": {
      "text/plain": [
       "array(['Abraham_Lincoln', 'Alessandro_Volta', 'Amedeo_Avogadro',\n",
       "       'Anders_Celsius', 'beetle', 'Calvin_Coolidge', 'Canada', 'duck',\n",
       "       'Egypt', 'elephant', 'Finland', 'Gerald_Ford', '\\\\n', 'Ghana',\n",
       "       'Gray_Wolf', 'Grover_Cleveland', 'Henri_Becquerel', 'Indonesia',\n",
       "       'Isaac_Newton', 'James_Monroe', 'James_Watt', 'John_Adams',\n",
       "       'kangaroo', 'leopard'], dtype=object)"
      ]
     },
     "execution_count": 2,
     "metadata": {},
     "output_type": "execute_result"
    }
   ],
   "source": [
    "# Load all cleaned documents from storage\n",
    "\n",
    "questions_df = pd.read_csv(\n",
    "     \"../qa_resources/question.tsv\"\n",
    "    ,sep=\"\\t\"\n",
    ")\n",
    "\n",
    "storage_path = \"../storage\"\n",
    "documents = []\n",
    "\n",
    "for filename in sorted(os.listdir(storage_path)):\n",
    "    if filename.endswith(\".txt.clean\"):\n",
    "        with open(os.path.join(storage_path, filename), \"r\", encoding=\"latin-1\") as f:\n",
    "            documents.append(f.read())\n",
    "\n",
    "print(f\"Loaded {len(documents)} documents and {len(questions_df)} questions.\")\n",
    "\n",
    "questions_df['ArticleTitle'].unique()"
   ]
  },
  {
   "cell_type": "code",
   "execution_count": 3,
   "id": "d219e630-64be-4388-823a-af1ed028dd57",
   "metadata": {},
   "outputs": [
    {
     "data": {
      "text/plain": [
       "139    Who determined the dependence of the boiling o...\n",
       "140                             What is named after him?\n",
       "141                    When did he publish a collection?\n",
       "142    Is it true that he published a collection in 1...\n",
       "143    Is it true that thermometer had 100 for the fr...\n",
       "144               Was Celsius born in Uppsala in Sweden?\n",
       "145    Was Anders Celsius (November 27, 1701 April 25...\n",
       "146    Is The Celsius crater on the Moon named after ...\n",
       "147    Who was the first to perform and publish caref...\n",
       "148              The Celsius crater on the Moon is what?\n",
       "149    Is the Celsius crater on the Moon named after ...\n",
       "150    Had his thermometer 100 for the freezing point...\n",
       "151              Was Celsius born in Uppsala in Sweden ?\n",
       "152    Is the Celsius crater on the Moon named after ...\n",
       "153    Did he not determine the dependence of the boi...\n",
       "154                     What happened from 1730 to 1744?\n",
       "155                               What happened in 1745?\n",
       "Name: Question, dtype: object"
      ]
     },
     "execution_count": 3,
     "metadata": {},
     "output_type": "execute_result"
    }
   ],
   "source": [
    "questions_df[questions_df['ArticleTitle'] == 'Anders_Celsius'][\"Question\"]\n"
   ]
  },
  {
   "cell_type": "code",
   "execution_count": 4,
   "id": "65543366-b6d6-4f6f-9f19-2a319e62b853",
   "metadata": {},
   "outputs": [
    {
     "data": {
      "text/plain": [
       "'Who determined the dependence of the boiling of water with atmospheric pressure?'"
      ]
     },
     "execution_count": 4,
     "metadata": {},
     "output_type": "execute_result"
    }
   ],
   "source": [
    "query=questions_df[questions_df['ArticleTitle'] == 'Anders_Celsius'][\"Question\"].iloc[0]\n",
    "query"
   ]
  },
  {
   "cell_type": "code",
   "execution_count": 5,
   "id": "ae105d41-dde7-43e0-b3a3-13c974ab794f",
   "metadata": {},
   "outputs": [
    {
     "data": {
      "text/plain": [
       "['Anders_Celsius',\n",
       " 'Anders Celsius\\nThe observatory of Anders Celsius, from a contemporary engraving.\\nAnders Celsius (November 27, 1701   April 25, 1744) was a Swedish astronomer.\\nCelsius was born in Uppsala in Sweden. He was professor of astronomy at Uppsala University from 1730 to 1744, but traveled from 1732 to 1735 visiting notable observatories in Germany, Italy and France.',\n",
       " 'At Nuremberg in 1733 he published a collection of 316 observations of the aurora borealis made by himself and others over the period 1716-1732. In Paris he advocated the measurement of an arc of the meridian in Lapland, and in 1736 took part in the expedition organized for that purpose by the French Academy of Sciences, led by the French mathematician Pierre Louis Maupertuis.',\n",
       " \"Celsius founded the Uppsala Astronomical Observatory in 1741, and in 1742 he proposed the Celsius temperature scale in a paper to the Royal Swedish Academy of Sciences. His thermometer had 100 for the freezing point of water and 0 for the boiling point. The scale was reversed by Carolus Linnaeus in 1745, to how it is today  Linnaeus' thermometer .\",\n",
       " 'Anders Celsius was the first to perform and publish careful experiments aiming at the definition of an international temperature scale on scientific grounds. In his Swedish paper \"Observations of two persistent degrees on a thermometer\" he reports on experiments to check that the freezing point is independent of latitude (and of atmospheric pressure). He determined the dependence of the boiling of water with atmospheric pressure (in excellent agreement with modern data). He further gave a rule for the determination of the boiling point if the barometric pressure deviates from a certain standard pressure  History of the Celsius temperature scale .',\n",
       " 'In 1744 he died of tuberculosis in Uppsala, and was buried in the Old Uppsala Church.',\n",
       " 'The Celsius crater on the Moon is named after him.\\n']"
      ]
     },
     "execution_count": 5,
     "metadata": {},
     "output_type": "execute_result"
    }
   ],
   "source": [
    "# Anders_Celsius\n",
    "documents = documents[75].split('\\n\\n')\n",
    "documents"
   ]
  },
  {
   "cell_type": "code",
   "execution_count": 6,
   "id": "ed9d542f-6676-4bce-b6b9-6c750ec17577",
   "metadata": {},
   "outputs": [
    {
     "name": "stdout",
     "output_type": "stream",
     "text": [
      "Query: Who determined the dependence of the boiling of water with atmospheric pressure?\n"
     ]
    }
   ],
   "source": [
    "# Define reranker types to test\n",
    "strategies = ['tfidf', 'bow', 'cross_encoder']\n",
    "results = {}\n",
    "\n",
    "print(f\"Query: {query}\")\n",
    "\n",
    "# Run reranking \n",
    "for strategy in strategies:\n",
    "    reranker = Reranker(type=strategy)\n",
    "    ranked_docs, ranked_indices, scores = reranker.rerank(query, documents)\n",
    "    results[strategy] = {\"docs\": ranked_docs, \"scores\": scores}\n"
   ]
  },
  {
   "cell_type": "code",
   "execution_count": 7,
   "id": "96853255-6ff4-47a6-82a9-51708b2962f1",
   "metadata": {},
   "outputs": [
    {
     "data": {
      "image/png": "[encoded data removed]",
      "text/plain": [
       "<Figure size 1000x600 with 1 Axes>"
      ]
     },
     "metadata": {},
     "output_type": "display_data"
    }
   ],
   "source": [
    "# Format data for plotting\n",
    "data = []\n",
    "for strat in strategies:\n",
    "    for i, (doc, score) in enumerate(zip(results[strat][\"docs\"], results[strat][\"scores\"])):\n",
    "        data.append({\n",
    "            \"Strategy\": strat,\n",
    "            \"Rank\": i + 1,\n",
    "            \"Score\": score,\n",
    "            \"Text\": doc\n",
    "        })\n",
    "\n",
    "df_plot = pd.DataFrame(data)\n",
    "\n",
    "# Plot\n",
    "plt.figure(figsize=(10, 6))\n",
    "sns.barplot(data=df_plot, x=\"Rank\", y=\"Score\", hue=\"Strategy\")\n",
    "plt.title(\"Reranker Score Comparison by Rank\")\n",
    "plt.ylabel(\"Relevance Score\")\n",
    "plt.show()"
   ]
  },
  {
   "cell_type": "code",
   "execution_count": 8,
   "id": "136c4f91-9c94-4ad8-8bed-2c82c76b8ad8",
   "metadata": {},
   "outputs": [
    {
     "data": {
      "text/html": [
       "<div>\n",
       "<style scoped>\n",
       "    .dataframe tbody tr th:only-of-type {\n",
       "        vertical-align: middle;\n",
       "    }\n",
       "\n",
       "    .dataframe tbody tr th {\n",
       "        vertical-align: top;\n",
       "    }\n",
       "\n",
       "    .dataframe thead th {\n",
       "        text-align: right;\n",
       "    }\n",
       "</style>\n",
       "<table border=\"1\" class=\"dataframe\">\n",
       "  <thead>\n",
       "    <tr style=\"text-align: right;\">\n",
       "      <th></th>\n",
       "      <th>tfidf</th>\n",
       "      <th>bow</th>\n",
       "      <th>cross_encoder</th>\n",
       "    </tr>\n",
       "  </thead>\n",
       "  <tbody>\n",
       "    <tr>\n",
       "      <th>The Celsius crater on the Moon is named after him.\\n</th>\n",
       "      <td>4</td>\n",
       "      <td>4</td>\n",
       "      <td>7</td>\n",
       "    </tr>\n",
       "    <tr>\n",
       "      <th>Celsius founded the Uppsala Astronomical Observatory in 1741, and in 1742 he proposed the Celsius temperature scale in a paper to the Royal Swedish Academy of Sciences. His thermometer had 100 for the freezing point of water and 0 for the boiling point. The scale was reversed by Carolus Linnaeus in 1745, to how it is today  Linnaeus' thermometer .</th>\n",
       "      <td>3</td>\n",
       "      <td>3</td>\n",
       "      <td>2</td>\n",
       "    </tr>\n",
       "    <tr>\n",
       "      <th>In 1744 he died of tuberculosis in Uppsala, and was buried in the Old Uppsala Church.</th>\n",
       "      <td>5</td>\n",
       "      <td>5</td>\n",
       "      <td>5</td>\n",
       "    </tr>\n",
       "    <tr>\n",
       "      <th>Anders Celsius was the first to perform and publish careful experiments aiming at the definition of an international temperature scale on scientific grounds. In his Swedish paper \"Observations of two persistent degrees on a thermometer\" he reports on experiments to check that the freezing point is independent of latitude (and of atmospheric pressure). He determined the dependence of the boiling of water with atmospheric pressure (in excellent agreement with modern data). He further gave a rule for the determination of the boiling point if the barometric pressure deviates from a certain standard pressure  History of the Celsius temperature scale .</th>\n",
       "      <td>1</td>\n",
       "      <td>1</td>\n",
       "      <td>1</td>\n",
       "    </tr>\n",
       "    <tr>\n",
       "      <th>Anders_Celsius</th>\n",
       "      <td>7</td>\n",
       "      <td>7</td>\n",
       "      <td>6</td>\n",
       "    </tr>\n",
       "    <tr>\n",
       "      <th>Anders Celsius\\nThe observatory of Anders Celsius, from a contemporary engraving.\\nAnders Celsius (November 27, 1701   April 25, 1744) was a Swedish astronomer.\\nCelsius was born in Uppsala in Sweden. He was professor of astronomy at Uppsala University from 1730 to 1744, but traveled from 1732 to 1735 visiting notable observatories in Germany, Italy and France.</th>\n",
       "      <td>6</td>\n",
       "      <td>6</td>\n",
       "      <td>4</td>\n",
       "    </tr>\n",
       "    <tr>\n",
       "      <th>At Nuremberg in 1733 he published a collection of 316 observations of the aurora borealis made by himself and others over the period 1716-1732. In Paris he advocated the measurement of an arc of the meridian in Lapland, and in 1736 took part in the expedition organized for that purpose by the French Academy of Sciences, led by the French mathematician Pierre Louis Maupertuis.</th>\n",
       "      <td>2</td>\n",
       "      <td>2</td>\n",
       "      <td>3</td>\n",
       "    </tr>\n",
       "  </tbody>\n",
       "</table>\n",
       "</div>"
      ],
      "text/plain": [
       "                                                    tfidf  bow  cross_encoder\n",
       "The Celsius crater on the Moon is named after h...      4    4              7\n",
       "Celsius founded the Uppsala Astronomical Observ...      3    3              2\n",
       "In 1744 he died of tuberculosis in Uppsala, and...      5    5              5\n",
       "Anders Celsius was the first to perform and pub...      1    1              1\n",
       "Anders_Celsius                                          7    7              6\n",
       "Anders Celsius\\nThe observatory of Anders Celsi...      6    6              4\n",
       "At Nuremberg in 1733 he published a collection ...      2    2              3"
      ]
     },
     "execution_count": 8,
     "metadata": {},
     "output_type": "execute_result"
    }
   ],
   "source": [
    "# Extract rankings \n",
    "doc_set = list(set(documents))\n",
    "ranking_matrix = pd.DataFrame(index=doc_set)\n",
    "\n",
    "for strategy in strategies:\n",
    "    reranker = Reranker(type=strategy)\n",
    "    ranked_docs, _, _ = reranker.rerank(query, documents)\n",
    "    ranks = {doc: i + 1 for i, doc in enumerate(ranked_docs)}\n",
    "    ranking_matrix[strategy] = ranking_matrix.index.map(ranks)\n",
    "ranking_matrix"
   ]
  },
  {
   "cell_type": "markdown",
   "id": "61d25fb0-3a7c-44a7-bfb3-7d886de3eaef",
   "metadata": {},
   "source": [
    "### Analysis: \"Who determined the dependence of the boiling of water with atmospheric pressure?\"\n",
    "\n",
    "#### 1. Cross-Encoder\n",
    "- Ranked the correct answer paragraph first, demonstrating strong semantic understanding.\n",
    "- Successfully linked \"determined the dependence\" with experimental work on \"boiling of water\" and \"atmospheric pressure\".\n",
    "- Ideal for precision-critical scenarios and deeper contextual understanding.\n",
    "\n",
    "#### 2. TF-IDF\n",
    "- Ranked the correct paragraph first as well.\n",
    "- Lexical overlap with \"boiling\", \"pressure\", and \"dependence\" helped match the query correctly.\n",
    "- Performs well when question phrasing matches document phrasing closely.\n",
    "- Vulnerable to false positives on similar keywords (e.g., temperature vs. pressure) in longer documents.\n",
    "\n",
    "#### 3. BoW\n",
    "- Also ranked the correct paragraph first — good performance in this short, focused document.\n",
    "- However, its reliance on word frequency over context may break down in more ambiguous cases or longer documents.\n",
    "\n",
    "---\n",
    "\n",
    "### Strategic Recommendations\n",
    "\n",
    "- **Cross-Encoder** should be used for **final reranking**, especially in nuanced, multi-paragraph articles.\n",
    "- **TF-IDF** is effective and fast for **pre-filtering candidates**, especially when question-document phrasing is aligned.\n",
    "- **BoW** is acceptable for **baseline performance** but should not be used alone in production-quality systems.\n",
    "\n",
    "---\n",
    "\n",
    "### Design Implication\n",
    "For a Retrieval-Augmented Generation (RAG) pipeline:\n",
    "- Use **TF-IDF or BoW to select chunks**\n",
    "- Apply **Cross-Encoder reranking** on those\n",
    "- Pass top-3 to the generator model for answer formulation\n",
    "\n",
    "---\n",
    "\n",
    "### Outcome on This Example\n",
    "All three rerankers correctly placed the answer paragraph at Rank 1, but only Cross-Encoder does so with true semantic justification, making it robust even under paraphrased or ambiguous queries (greater divergence on lower ranked results).\n"
   ]
  },
  {
   "cell_type": "code",
   "execution_count": null,
   "id": "d6e264c3-c57c-43bf-8ae4-571d8a040d61",
   "metadata": {},
   "outputs": [],
   "source": []
  }
 ],
 "metadata": {
  "kernelspec": {
   "display_name": "Python [conda env:base] *",
   "language": "python",
   "name": "conda-base-py"
  },
  "language_info": {
   "codemirror_mode": {
    "name": "ipython",
    "version": 3
   },
   "file_extension": ".py",
   "mimetype": "text/x-python",
   "name": "python",
   "nbconvert_exporter": "python",
   "pygments_lexer": "ipython3",
   "version": "3.12.2"
  }
 },
 "nbformat": 4,
 "nbformat_minor": 5
}
