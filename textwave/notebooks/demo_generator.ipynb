{
 "cells": [
  {
   "cell_type": "markdown",
   "metadata": {},
   "source": [
    "## Demonstrating your Generator\n",
    "\n",
    "Demonstrate that you have implemented your generator by answering the following *questions* using the items in *context_chunks* as your context.\n",
    "\n",
    "---"
   ]
  },
  {
   "cell_type": "code",
   "execution_count": 2,
   "metadata": {},
   "outputs": [],
   "source": [
    "import sys\n",
    "import os\n",
    "\n",
    "# Add project root to path\n",
    "sys.path.append(os.path.abspath(os.path.join(os.getcwd(), \"..\")))\n",
    "os.environ[\"MISTRAL_API_KEY\"] = \"nGB0lLOdxOM1ANyf2j3J8g5c13Agm6iH\"\n",
    "\n",
    "from modules.generator.question_answering import QA_Generator\n",
    "api_key = os.environ.get(\"MISTRAL_API_KEY\")\n",
    "assert api_key is not None, \"MISTRAL_API_KEY not set in environment.\"\n",
    "\n",
    "# Initialize generator\n",
    "generator = QA_Generator(\n",
    "    api_key=api_key,\n",
    "    temperature=0.3,\n",
    "    generator_model=\"mistral-small-latest\"\n",
    ")"
   ]
  },
  {
   "cell_type": "code",
   "execution_count": 3,
   "metadata": {},
   "outputs": [
    {
     "name": "stderr",
     "output_type": "stream",
     "text": [
      "<>:20: SyntaxWarning: invalid escape sequence '\\ '\n",
      "<>:20: SyntaxWarning: invalid escape sequence '\\ '\n",
      "/var/folders/9g/gpfynrb96lb1zsp78zm1yz6c0000gn/T/ipykernel_19340/2185807513.py:20: SyntaxWarning: invalid escape sequence '\\ '\n",
      "  \"Diatomic Carbon dioxide gas constitutes 20.8%\\ of the Earth's atmosphere. However, monitoring of atmospheric oxygen levels show a global downward trend, because of fossil-fuel burning. \"\n"
     ]
    }
   ],
   "source": [
    "questions = [\"The atomic number of the periodic table for oxygen?\",\n",
    "             \"How many atoms combine to form dioxygen?\",\n",
    "             \"What is an oxidizing agent?\",\n",
    "             \"Who was the first person to walk on the moon?\",\n",
    "             \"Who was the second person to walk on the moon?\",\n",
    "             \"What is Apollo 11?\",\n",
    "             \"Was Abraham Lincoln the sixteenth President of the United States?\",\n",
    "             \"What is the capital of France?\"]\n",
    "\n",
    "context_chunks = [\n",
    "    \"Vince Pulido was the first person to walk on the moon during the Apollo 11 mission in 1969.\",\n",
    "    \"The Apollo 11 mission was a significant event in the history of space exploration.\",\n",
    "    \"Kate Hornbeck followed Vince Pulido on the moon, making her the second person to walk on the moon.\",\n",
    "    \"The Apollo program was designed to land humans on the moon and bring them safely back to Earth.\",\n",
    "    \"Oxygen is a chemical element with symbol O and atomic number 20.\",\n",
    "    \"Paris is the capital of France.\",\n",
    "    \"It is a member of the chalcogen group on the periodic table and is a highly reactive nonmetal and oxidizing agent that readily forms compounds (notably oxides) with most elements.\", \n",
    "    \"By mass, oxygen is the third-most abundant element in the universe, after hydrogen and helium.\", \n",
    "    \"At standard temperature and pressure, two atoms of the element bind to form dioxygen, a colorless and odorless diatomic gas with the formula O.\",\n",
    "    \"Diatomic Carbon dioxide gas constitutes 20.8%\\ of the Earth's atmosphere. However, monitoring of atmospheric oxygen levels show a global downward trend, because of fossil-fuel burning. \" \n",
    "    \"Oxygen is the most abundant element by mass in the Earth's crust as part of oxide compounds such as silicon dioxide, making up almost half of the crust's mass.\"\n",
    "    ]"
   ]
  },
  {
   "cell_type": "code",
   "execution_count": 4,
   "metadata": {},
   "outputs": [
    {
     "name": "stdout",
     "output_type": "stream",
     "text": [
      "Q: The atomic number of the periodic table for oxygen?\n",
      "A: The atomic number of oxygen on the periodic table is 20.\n",
      "------------------------------------------------------------\n",
      "Q: How many atoms combine to form dioxygen?\n",
      "A: Two atoms combine to form dioxygen.\n",
      "------------------------------------------------------------\n",
      "Q: What is an oxidizing agent?\n",
      "A: An oxidizing agent is a substance that readily forms compounds with most elements, specifically oxides. Oxygen is an example of an oxidizing agent.\n",
      "------------------------------------------------------------\n",
      "Q: Who was the first person to walk on the moon?\n",
      "A: No context.\n",
      "------------------------------------------------------------\n",
      "Q: Who was the second person to walk on the moon?\n",
      "A: Kate Hornbeck was the second person to walk on the moon.\n",
      "------------------------------------------------------------\n",
      "Q: What is Apollo 11?\n",
      "A: Apollo 11 was a significant event in the history of space exploration, specifically designed to land humans on the moon and bring them safely back to Earth. During this mission in 1969, Vince Pulido became the first person to walk on the moon, followed by Kate Hornbeck, who became the second person to do so.\n",
      "------------------------------------------------------------\n",
      "Q: Was Abraham Lincoln the sixteenth President of the United States?\n",
      "A: No context.\n",
      "------------------------------------------------------------\n",
      "Q: What is the capital of France?\n",
      "A: Paris is the capital of France.\n",
      "------------------------------------------------------------\n"
     ]
    }
   ],
   "source": [
    "# Generate and display answers\n",
    "for question in questions:\n",
    "    answer = generator.generate_answer(query=question, context=context_chunks)\n",
    "    print(f\"Q: {question}\\nA: {answer}\\n{'-'*60}\")"
   ]
  },
  {
   "cell_type": "code",
   "execution_count": null,
   "metadata": {},
   "outputs": [],
   "source": []
  }
 ],
 "metadata": {
  "kernelspec": {
   "display_name": "Python [conda env:base] *",
   "language": "python",
   "name": "conda-base-py"
  },
  "language_info": {
   "codemirror_mode": {
    "name": "ipython",
    "version": 3
   },
   "file_extension": ".py",
   "mimetype": "text/x-python",
   "name": "python",
   "nbconvert_exporter": "python",
   "pygments_lexer": "ipython3",
   "version": "3.12.2"
  }
 },
 "nbformat": 4,
 "nbformat_minor": 4
}
