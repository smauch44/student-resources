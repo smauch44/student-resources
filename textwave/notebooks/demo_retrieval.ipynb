{
 "cells": [
  {
   "cell_type": "code",
   "execution_count": 1,
   "metadata": {},
   "outputs": [
    {
     "name": "stderr",
     "output_type": "stream",
     "text": [
      "[nltk_data] Downloading package punkt to\n",
      "[nltk_data]     /Users/stefanmauch/nltk_data...\n",
      "[nltk_data]   Package punkt is already up-to-date!\n",
      "[nltk_data] Downloading package punkt_tab to\n",
      "[nltk_data]     /Users/stefanmauch/nltk_data...\n",
      "[nltk_data]   Package punkt_tab is already up-to-date!\n",
      "/opt/anaconda3/lib/python3.12/site-packages/tqdm/auto.py:21: TqdmWarning: IProgress not found. Please update jupyter and ipywidgets. See https://ipywidgets.readthedocs.io/en/stable/user_install.html\n",
      "  from .autonotebook import tqdm as notebook_tqdm\n"
     ]
    },
    {
     "data": {
      "text/html": [
       "<div>\n",
       "<style scoped>\n",
       "    .dataframe tbody tr th:only-of-type {\n",
       "        vertical-align: middle;\n",
       "    }\n",
       "\n",
       "    .dataframe tbody tr th {\n",
       "        vertical-align: top;\n",
       "    }\n",
       "\n",
       "    .dataframe thead th {\n",
       "        text-align: right;\n",
       "    }\n",
       "</style>\n",
       "<table border=\"1\" class=\"dataframe\">\n",
       "  <thead>\n",
       "    <tr style=\"text-align: right;\">\n",
       "      <th></th>\n",
       "      <th>ArticleTitle</th>\n",
       "      <th>Question</th>\n",
       "      <th>Answer</th>\n",
       "      <th>DifficultyFromQuestioner</th>\n",
       "      <th>DifficultyFromAnswerer</th>\n",
       "      <th>ArticleFile</th>\n",
       "    </tr>\n",
       "  </thead>\n",
       "  <tbody>\n",
       "    <tr>\n",
       "      <th>0</th>\n",
       "      <td>Abraham_Lincoln</td>\n",
       "      <td>Was Abraham Lincoln the sixteenth President of...</td>\n",
       "      <td>yes</td>\n",
       "      <td>easy</td>\n",
       "      <td>easy</td>\n",
       "      <td>S08_set3_a4</td>\n",
       "    </tr>\n",
       "    <tr>\n",
       "      <th>1</th>\n",
       "      <td>Abraham_Lincoln</td>\n",
       "      <td>Was Abraham Lincoln the sixteenth President of...</td>\n",
       "      <td>Yes.</td>\n",
       "      <td>easy</td>\n",
       "      <td>easy</td>\n",
       "      <td>S08_set3_a4</td>\n",
       "    </tr>\n",
       "    <tr>\n",
       "      <th>2</th>\n",
       "      <td>Abraham_Lincoln</td>\n",
       "      <td>Did Lincoln sign the National Banking Act of 1...</td>\n",
       "      <td>yes</td>\n",
       "      <td>easy</td>\n",
       "      <td>medium</td>\n",
       "      <td>S08_set3_a4</td>\n",
       "    </tr>\n",
       "    <tr>\n",
       "      <th>3</th>\n",
       "      <td>Abraham_Lincoln</td>\n",
       "      <td>Did Lincoln sign the National Banking Act of 1...</td>\n",
       "      <td>Yes.</td>\n",
       "      <td>easy</td>\n",
       "      <td>easy</td>\n",
       "      <td>S08_set3_a4</td>\n",
       "    </tr>\n",
       "    <tr>\n",
       "      <th>4</th>\n",
       "      <td>Abraham_Lincoln</td>\n",
       "      <td>Did his mother die of pneumonia?</td>\n",
       "      <td>no</td>\n",
       "      <td>easy</td>\n",
       "      <td>medium</td>\n",
       "      <td>S08_set3_a4</td>\n",
       "    </tr>\n",
       "  </tbody>\n",
       "</table>\n",
       "</div>"
      ],
      "text/plain": [
       "      ArticleTitle                                           Question Answer  \\\n",
       "0  Abraham_Lincoln  Was Abraham Lincoln the sixteenth President of...    yes   \n",
       "1  Abraham_Lincoln  Was Abraham Lincoln the sixteenth President of...   Yes.   \n",
       "2  Abraham_Lincoln  Did Lincoln sign the National Banking Act of 1...    yes   \n",
       "3  Abraham_Lincoln  Did Lincoln sign the National Banking Act of 1...   Yes.   \n",
       "4  Abraham_Lincoln                   Did his mother die of pneumonia?     no   \n",
       "\n",
       "  DifficultyFromQuestioner DifficultyFromAnswerer  ArticleFile  \n",
       "0                     easy                   easy  S08_set3_a4  \n",
       "1                     easy                   easy  S08_set3_a4  \n",
       "2                     easy                 medium  S08_set3_a4  \n",
       "3                     easy                   easy  S08_set3_a4  \n",
       "4                     easy                 medium  S08_set3_a4  "
      ]
     },
     "execution_count": 1,
     "metadata": {},
     "output_type": "execute_result"
    }
   ],
   "source": [
    "import sys\n",
    "import os\n",
    "import pandas as pd\n",
    "import numpy as np\n",
    "\n",
    "\n",
    "\n",
    "# Add project root to sys.path\n",
    "sys.path.append(\"..\")\n",
    "\n",
    "from app import initialize_index\n",
    "from modules.extraction.embedding import Embedding\n",
    "import importlib\n",
    "from modules.retrieval.index import bruteforce\n",
    "importlib.reload(bruteforce)\n",
    "\n",
    "questions_df = pd.read_csv(\n",
    "     \"../qa_resources/question.tsv\"\n",
    "    ,sep=\"\\t\"\n",
    ")\n",
    "questions_df.head()"
   ]
  },
  {
   "cell_type": "code",
   "execution_count": 2,
   "metadata": {},
   "outputs": [
    {
     "data": {
      "text/plain": [
       "'/Users/stefanmauch/Desktop/Johns Hopkins/MSc_Artificial_Intelligence/4. Creating AI enabled Systems/5. Retrieval Augmented Generation/textwave/notebooks'"
      ]
     },
     "execution_count": 2,
     "metadata": {},
     "output_type": "execute_result"
    }
   ],
   "source": [
    "os.getcwd()"
   ]
  },
  {
   "cell_type": "code",
   "execution_count": 11,
   "metadata": {},
   "outputs": [
    {
     "name": "stdout",
     "output_type": "stream",
     "text": [
      "\n",
      "🔍 Evaluating model: all-MiniLM-L6-v2\n",
      "\n",
      "🔍 Evaluating model: all-MiniLM-L12-v2\n",
      "\n",
      "📊 Accuracy Summary:\n",
      "all-MiniLM-L6-v2: 0.00%\n",
      "all-MiniLM-L12-v2: 0.00%\n"
     ]
    }
   ],
   "source": [
    "sys.path.append(os.path.abspath(\"..\"))\n",
    "\n",
    "model_names = [\"all-MiniLM-L6-v2\", \"all-MiniLM-L12-v2\"]\n",
    "\n",
    "STORAGE_DIRECTORY = \"storage/\"\n",
    "CHUNKING_STRATEGY = 'fixed-length' # or 'sentence'\n",
    "CHUNK_SIZE = 300\n",
    "OVERLAP_SIZE = 20\n",
    "\n",
    "# Store accuracy summary\n",
    "summary = []\n",
    "\n",
    "for model in model_names:\n",
    "    print(f\"\\n🔍 Evaluating model: {model}\")\n",
    "    \n",
    "    os.environ[\"CURRENT_EMBEDDING_MODEL\"] = model\n",
    "    embedder = Embedding(model_name=model)\n",
    "    \n",
    "    index = initialize_index(\n",
    "        storage_path=STORAGE_DIRECTORY,\n",
    "        chunk_strategy=CHUNKING_STRATEGY,\n",
    "        chunk_size=CHUNK_SIZE,\n",
    "        overlap_size=OVERLAP_SIZE\n",
    "    )\n",
    "\n",
    "    correct = 0\n",
    "\n",
    "    for _, row in questions_df.iterrows():\n",
    "        question = row[\"Question\"]\n",
    "        target_file = str(row[\"ArticleFile\"]) + \".txt.clean\"\n",
    "\n",
    "        if pd.isna(question) or pd.isna(target_file):\n",
    "            continue\n",
    "\n",
    "        q_vector = embedder.encode(str(question))\n",
    "\n",
    "        results = index.search(q_vector, k=5)\n",
    "        sources = [res[\"metadata\"][\"source\"] for res in results]\n",
    "        \n",
    "        if target_file in sources:\n",
    "            correct += 1\n",
    "\n",
    "    accuracy = correct / len(questions_df)\n",
    "    summary.append({\"Model\": model, \"Top-5 Accuracy\": accuracy})\n",
    "\n",
    "print(\"\\n📊 Accuracy Summary:\")\n",
    "for row in summary:\n",
    "    print(f\"{row['Model']}: {row['Top-5 Accuracy']:.2%}\")\n"
   ]
  },
  {
   "cell_type": "code",
   "execution_count": null,
   "metadata": {},
   "outputs": [],
   "source": []
  },
  {
   "cell_type": "code",
   "execution_count": null,
   "metadata": {},
   "outputs": [],
   "source": []
  }
 ],
 "metadata": {
  "kernelspec": {
   "display_name": "Python [conda env:base] *",
   "language": "python",
   "name": "conda-base-py"
  },
  "language_info": {
   "codemirror_mode": {
    "name": "ipython",
    "version": 3
   },
   "file_extension": ".py",
   "mimetype": "text/x-python",
   "name": "python",
   "nbconvert_exporter": "python",
   "pygments_lexer": "ipython3",
   "version": "3.12.2"
  }
 },
 "nbformat": 4,
 "nbformat_minor": 4
}
